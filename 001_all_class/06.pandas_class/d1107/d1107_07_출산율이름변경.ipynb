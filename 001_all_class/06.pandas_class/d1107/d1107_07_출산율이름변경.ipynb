{
 "cells": [
  {
   "cell_type": "code",
   "execution_count": 6,
   "metadata": {},
   "outputs": [],
   "source": [
    "import pandas as pd"
   ]
  },
  {
   "cell_type": "code",
   "execution_count": null,
   "metadata": {},
   "outputs": [
    {
     "name": "stderr",
     "output_type": "stream",
     "text": [
      "c:\\python\\Lib\\site-packages\\openpyxl\\styles\\stylesheet.py:237: UserWarning: Workbook contains no default style, apply openpyxl's default\n",
      "  warn(\"Workbook contains no default style, apply openpyxl's default\")\n"
     ]
    },
    {
     "data": {
      "text/plain": [
       "2014    435.4\n",
       "2015    438.4\n",
       "2016    406.2\n",
       "2017    357.8\n",
       "2018    326.8\n",
       "2019    302.7\n",
       "2020    272.3\n",
       "2021    260.6\n",
       "2022    249.1\n",
       "2023    230.0\n",
       "Name: 출생아 수, dtype: float64"
      ]
     },
     "execution_count": 30,
     "metadata": {},
     "output_type": "execute_result"
    }
   ],
   "source": [
    "## 상단 2개 삭제\n",
    "## 0번 컬럼을 index지정, index이름은 '목록'\n",
    "## 출생아 수 출력하시오\n",
    "# index_col 컬럼명이 없는경우 : index번호로 지정\n",
    "df = pd.read_excel('출산율2.xlsx',skiprows=2,nrows=2,index_col=0)\n",
    "df.index.name = '목록'\n",
    "\n",
    "df.index.values  # index 문자공백 : 유니코드까지 확인\n",
    "df.loc['출생아\\xa0수']f  \n",
    "\n",
    "## 합계출산율 출력\n",
    "df.loc['합계\\xa0출산율']\n"
   ]
  },
  {
   "cell_type": "code",
   "execution_count": null,
   "metadata": {},
   "outputs": [],
   "source": [
    "## 상단 2개 삭제\n",
    "## 0번 컬럼을 index지정, index이름은 '목록'\n",
    "\n",
    "# index_col 컬럼명이 없는경우 : index번호로 지정\n",
    "df = pd.read_excel('출산율.xlsx',skiprows=2,nrows=1,index_col=0)\n",
    "df.index.name = '목록'\n",
    "df.index\n",
    "df.loc['합계출산율']"
   ]
  },
  {
   "cell_type": "code",
   "execution_count": 34,
   "metadata": {},
   "outputs": [
    {
     "data": {
      "text/plain": [
       "2014    435.4\n",
       "2015    438.4\n",
       "2016    406.2\n",
       "2017    357.8\n",
       "2018    326.8\n",
       "2019    302.7\n",
       "2020    272.3\n",
       "2021    260.6\n",
       "2022    249.1\n",
       "2023    230.0\n",
       "Name: 출생아 수, dtype: float64"
      ]
     },
     "execution_count": 34,
     "metadata": {},
     "output_type": "execute_result"
    }
   ],
   "source": [
    "# index 이름변경 / df.rename -> inplace=True\n",
    "df.index.values\n",
    "df.rename(index={'출생아\\xa0수':'출생아 수','합계\\xa0출산율':'합계 출산율'},inplace=True)\n",
    "df.index.values\n",
    "df.loc['출생아 수']"
   ]
  },
  {
   "cell_type": "code",
   "execution_count": null,
   "metadata": {},
   "outputs": [
    {
     "data": {
      "text/plain": [
       "np.float64(327.92999999999995)"
      ]
     },
     "execution_count": 37,
     "metadata": {},
     "output_type": "execute_result"
    }
   ],
   "source": [
    "# index, 컬럼의 축 변경\n",
    "df = df.T\n",
    "\n",
    "\n",
    "df['출생아 수'].min()\n",
    "df['출생아 수'].max()\n",
    "df['출생아 수'].sum()\n",
    "df['출생아 수'].mean()"
   ]
  }
 ],
 "metadata": {
  "kernelspec": {
   "display_name": "Python 3",
   "language": "python",
   "name": "python3"
  },
  "language_info": {
   "codemirror_mode": {
    "name": "ipython",
    "version": 3
   },
   "file_extension": ".py",
   "mimetype": "text/x-python",
   "name": "python",
   "nbconvert_exporter": "python",
   "pygments_lexer": "ipython3",
   "version": "3.12.6"
  }
 },
 "nbformat": 4,
 "nbformat_minor": 2
}
